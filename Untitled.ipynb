{
 "cells": [
  {
   "cell_type": "code",
   "execution_count": 3,
   "id": "58c83889",
   "metadata": {},
   "outputs": [],
   "source": [
    "from docxtpl import DocxTemplate\n",
    "from datetime import datetime\n",
    "import pandas as pd\n",
    "\n",
    "doc = DocxTemplate(\"template.docx\")\n",
    "\n",
    "df=pd.read_csv('en_fake_data.csv')\n",
    "\n",
    "\n",
    "\n",
    "for index, row in df.iterrows():\n",
    "    context={\n",
    "        'file_no':row['phone_number'],\n",
    "        'subject':row['company'],\n",
    "        'estimated_amount':row['address'],\n",
    "        'head_of_the_account':row['email'],\n",
    "        'approving_authority':row['name']\n",
    "    }\n",
    "    doc.render(context)\n",
    "    doc.save(f\"_{row['email']}.docx\")\n",
    "        \n",
    "\n"
   ]
  },
  {
   "cell_type": "code",
   "execution_count": null,
   "id": "dccdb348",
   "metadata": {},
   "outputs": [],
   "source": []
  },
  {
   "cell_type": "code",
   "execution_count": null,
   "id": "4ab779b4",
   "metadata": {},
   "outputs": [],
   "source": []
  },
  {
   "cell_type": "code",
   "execution_count": null,
   "id": "dee8905e",
   "metadata": {},
   "outputs": [],
   "source": []
  }
 ],
 "metadata": {
  "kernelspec": {
   "display_name": "Python 3 (ipykernel)",
   "language": "python",
   "name": "python3"
  },
  "language_info": {
   "codemirror_mode": {
    "name": "ipython",
    "version": 3
   },
   "file_extension": ".py",
   "mimetype": "text/x-python",
   "name": "python",
   "nbconvert_exporter": "python",
   "pygments_lexer": "ipython3",
   "version": "3.11.6"
  }
 },
 "nbformat": 4,
 "nbformat_minor": 5
}
